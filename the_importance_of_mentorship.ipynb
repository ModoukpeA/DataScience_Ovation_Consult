{
 "cells": [
  {
   "cell_type": "markdown",
   "metadata": {},
   "source": [
    "# Data Analysis With a CSV File"
   ]
  },
  {
   "cell_type": "markdown",
   "metadata": {},
   "source": [
    "## Importing Libraries "
   ]
  },
  {
   "cell_type": "code",
   "execution_count": 1,
   "metadata": {},
   "outputs": [
    {
     "name": "stdout",
     "output_type": "stream",
     "text": [
      "                     Horodateur Quel prénom vous convient plus ?  \\\n",
      "0  2021/01/14 11:42:54 AM UTC+1                             Elle   \n",
      "1  2021/01/14 11:15:14 PM UTC+1                             Elle   \n",
      "2   2021/01/17 9:50:25 AM UTC+1                             Nadi   \n",
      "3   2021/01/17 9:20:40 PM UTC+1                               Il   \n",
      "4   2021/01/24 1:00:11 PM UTC+1                             Elle   \n",
      "5   2021/01/24 1:01:13 PM UTC+1                               Il   \n",
      "6   2021/01/24 1:11:21 PM UTC+1                               Il   \n",
      "7   2021/01/28 7:13:20 AM UTC+1                               Il   \n",
      "\n",
      "  Votre tranche d'âge      Nom & Prénoms    Occupation  \\\n",
      "0               21-26      AYEGNON Grâce   Employé (e)   \n",
      "1              15 -20    MOUFTAOU Hanane  Etudiant (e)   \n",
      "2              15 -20       Ehysse nadia  Etudiant (e)   \n",
      "3               21-26    Vincent TOSSOU     Freelancer   \n",
      "4             27-plus  Annette ADOUKONOU  Entrepreneur   \n",
      "5                 NaN                NaN  Entrepreneur   \n",
      "6               21-26      GNIMADI Patel   Employé (e)   \n",
      "7              15 -20    GBADENON Desnos  Etudiant (e)   \n",
      "\n",
      "  Pensez-vous que le mentorat est utile ?  \\\n",
      "0                                     Oui   \n",
      "1                                     Oui   \n",
      "2                                     Oui   \n",
      "3                                     Oui   \n",
      "4                                     Oui   \n",
      "5                                     Oui   \n",
      "6                                     Oui   \n",
      "7                                     Oui   \n",
      "\n",
      "                                  Si oui, pourquoi ?  \\\n",
      "0                    Il vous permet d'apprendre plus   \n",
      "1                    Il vous permet d'apprendre plus   \n",
      "2                    Il vous permet d'apprendre plus   \n",
      "3  Il accroit vos compétences dans un domaine précis   \n",
      "4                    Il vous permet d'apprendre plus   \n",
      "5  Il accroit vos compétences dans un domaine précis   \n",
      "6                    Il vous permet d'apprendre plus   \n",
      "7                    Il vous permet d'apprendre plus   \n",
      "\n",
      "          Si non, pourquoi ? Vous préférez être mentoré (e) par ?  \\\n",
      "0                        NaN                            Une femme   \n",
      "1                        NaN                            Une femme   \n",
      "2                        NaN                             Un homme   \n",
      "3                        NaN                             Un homme   \n",
      "4                        NaN                            Une femme   \n",
      "5  Il est simplement inutile                             Un homme   \n",
      "6                        NaN                            Une femme   \n",
      "7                        NaN                            Une femme   \n",
      "\n",
      "  Quels sont les thèmes sur lesquels vous aimeriez être mentorés ?  \\\n",
      "0                              La gestion de projets                 \n",
      "1                                                NaN                 \n",
      "2                          L'art de parler en public                 \n",
      "3                   La santé mentale et émotionnelle                 \n",
      "4                             La gestion de finances                 \n",
      "5                  Les STEM (Science et Technologie)                 \n",
      "6                             La gestion de finances                 \n",
      "7                              La gestion de projets                 \n",
      "\n",
      "  Combien d'heures seriez-vous disponible à consacrer à une séance de mentorat par semaine ?  \\\n",
      "0                                                 2h                                           \n",
      "1                                                 2h                                           \n",
      "2                                                 1h                                           \n",
      "3                                                 2h                                           \n",
      "4                                                 2h                                           \n",
      "5                                                 1h                                           \n",
      "6                                                 1h                                           \n",
      "7                                                 2h                                           \n",
      "\n",
      "  Si vous avez un commentaire à faire, n'hésitez pas!  \n",
      "0                                         Non, merci   \n",
      "1                                                NaN   \n",
      "2                                                NaN   \n",
      "3                                                NaN   \n",
      "4                                                NaN   \n",
      "5                                                NaN   \n",
      "6  Par rapport aux thèmes je voudrais en choisir ...   \n",
      "7                                                NaN   \n"
     ]
    }
   ],
   "source": [
    "# I will use Pandas and Matplotlib Libraries to perform this task\n",
    "\n",
    "#Let's import them\n",
    "\n",
    "import pandas as pd\n",
    "import matplotlib.pyplot as plt\n",
    "import numpy as np\n",
    "\n",
    "\n",
    "# Creating a variable to store the file content\n",
    "mydata = pd.read_csv (\"data_collection.csv\")\n",
    "\n",
    "# Printing the content of the file (all the columns are displayed )\n",
    "print (mydata)"
   ]
  },
  {
   "cell_type": "markdown",
   "metadata": {},
   "source": [
    "## Affichage des données du fichier csv"
   ]
  },
  {
   "cell_type": "code",
   "execution_count": 2,
   "metadata": {},
   "outputs": [
    {
     "data": {
      "text/html": [
       "<div>\n",
       "<style scoped>\n",
       "    .dataframe tbody tr th:only-of-type {\n",
       "        vertical-align: middle;\n",
       "    }\n",
       "\n",
       "    .dataframe tbody tr th {\n",
       "        vertical-align: top;\n",
       "    }\n",
       "\n",
       "    .dataframe thead th {\n",
       "        text-align: right;\n",
       "    }\n",
       "</style>\n",
       "<table border=\"1\" class=\"dataframe\">\n",
       "  <thead>\n",
       "    <tr style=\"text-align: right;\">\n",
       "      <th></th>\n",
       "      <th>Horodateur</th>\n",
       "      <th>Quel prénom vous convient plus ?</th>\n",
       "      <th>Votre tranche d'âge</th>\n",
       "      <th>Nom &amp; Prénoms</th>\n",
       "      <th>Occupation</th>\n",
       "      <th>Pensez-vous que le mentorat est utile ?</th>\n",
       "      <th>Si oui, pourquoi ?</th>\n",
       "      <th>Si non, pourquoi ?</th>\n",
       "      <th>Vous préférez être mentoré (e) par ?</th>\n",
       "      <th>Quels sont les thèmes sur lesquels vous aimeriez être mentorés ?</th>\n",
       "      <th>Combien d'heures seriez-vous disponible à consacrer à une séance de mentorat par semaine ?</th>\n",
       "      <th>Si vous avez un commentaire à faire, n'hésitez pas!</th>\n",
       "    </tr>\n",
       "  </thead>\n",
       "  <tbody>\n",
       "    <tr>\n",
       "      <th>0</th>\n",
       "      <td>2021/01/14 11:42:54 AM UTC+1</td>\n",
       "      <td>Elle</td>\n",
       "      <td>21-26</td>\n",
       "      <td>AYEGNON Grâce</td>\n",
       "      <td>Employé (e)</td>\n",
       "      <td>Oui</td>\n",
       "      <td>Il vous permet d'apprendre plus</td>\n",
       "      <td>NaN</td>\n",
       "      <td>Une femme</td>\n",
       "      <td>La gestion de projets</td>\n",
       "      <td>2h</td>\n",
       "      <td>Non, merci</td>\n",
       "    </tr>\n",
       "    <tr>\n",
       "      <th>1</th>\n",
       "      <td>2021/01/14 11:15:14 PM UTC+1</td>\n",
       "      <td>Elle</td>\n",
       "      <td>15 -20</td>\n",
       "      <td>MOUFTAOU Hanane</td>\n",
       "      <td>Etudiant (e)</td>\n",
       "      <td>Oui</td>\n",
       "      <td>Il vous permet d'apprendre plus</td>\n",
       "      <td>NaN</td>\n",
       "      <td>Une femme</td>\n",
       "      <td>NaN</td>\n",
       "      <td>2h</td>\n",
       "      <td>NaN</td>\n",
       "    </tr>\n",
       "    <tr>\n",
       "      <th>2</th>\n",
       "      <td>2021/01/17 9:50:25 AM UTC+1</td>\n",
       "      <td>Nadi</td>\n",
       "      <td>15 -20</td>\n",
       "      <td>Ehysse nadia</td>\n",
       "      <td>Etudiant (e)</td>\n",
       "      <td>Oui</td>\n",
       "      <td>Il vous permet d'apprendre plus</td>\n",
       "      <td>NaN</td>\n",
       "      <td>Un homme</td>\n",
       "      <td>L'art de parler en public</td>\n",
       "      <td>1h</td>\n",
       "      <td>NaN</td>\n",
       "    </tr>\n",
       "    <tr>\n",
       "      <th>3</th>\n",
       "      <td>2021/01/17 9:20:40 PM UTC+1</td>\n",
       "      <td>Il</td>\n",
       "      <td>21-26</td>\n",
       "      <td>Vincent TOSSOU</td>\n",
       "      <td>Freelancer</td>\n",
       "      <td>Oui</td>\n",
       "      <td>Il accroit vos compétences dans un domaine précis</td>\n",
       "      <td>NaN</td>\n",
       "      <td>Un homme</td>\n",
       "      <td>La santé mentale et émotionnelle</td>\n",
       "      <td>2h</td>\n",
       "      <td>NaN</td>\n",
       "    </tr>\n",
       "    <tr>\n",
       "      <th>4</th>\n",
       "      <td>2021/01/24 1:00:11 PM UTC+1</td>\n",
       "      <td>Elle</td>\n",
       "      <td>27-plus</td>\n",
       "      <td>Annette ADOUKONOU</td>\n",
       "      <td>Entrepreneur</td>\n",
       "      <td>Oui</td>\n",
       "      <td>Il vous permet d'apprendre plus</td>\n",
       "      <td>NaN</td>\n",
       "      <td>Une femme</td>\n",
       "      <td>La gestion de finances</td>\n",
       "      <td>2h</td>\n",
       "      <td>NaN</td>\n",
       "    </tr>\n",
       "    <tr>\n",
       "      <th>5</th>\n",
       "      <td>2021/01/24 1:01:13 PM UTC+1</td>\n",
       "      <td>Il</td>\n",
       "      <td>NaN</td>\n",
       "      <td>NaN</td>\n",
       "      <td>Entrepreneur</td>\n",
       "      <td>Oui</td>\n",
       "      <td>Il accroit vos compétences dans un domaine précis</td>\n",
       "      <td>Il est simplement inutile</td>\n",
       "      <td>Un homme</td>\n",
       "      <td>Les STEM (Science et Technologie)</td>\n",
       "      <td>1h</td>\n",
       "      <td>NaN</td>\n",
       "    </tr>\n",
       "    <tr>\n",
       "      <th>6</th>\n",
       "      <td>2021/01/24 1:11:21 PM UTC+1</td>\n",
       "      <td>Il</td>\n",
       "      <td>21-26</td>\n",
       "      <td>GNIMADI Patel</td>\n",
       "      <td>Employé (e)</td>\n",
       "      <td>Oui</td>\n",
       "      <td>Il vous permet d'apprendre plus</td>\n",
       "      <td>NaN</td>\n",
       "      <td>Une femme</td>\n",
       "      <td>La gestion de finances</td>\n",
       "      <td>1h</td>\n",
       "      <td>Par rapport aux thèmes je voudrais en choisir ...</td>\n",
       "    </tr>\n",
       "    <tr>\n",
       "      <th>7</th>\n",
       "      <td>2021/01/28 7:13:20 AM UTC+1</td>\n",
       "      <td>Il</td>\n",
       "      <td>15 -20</td>\n",
       "      <td>GBADENON Desnos</td>\n",
       "      <td>Etudiant (e)</td>\n",
       "      <td>Oui</td>\n",
       "      <td>Il vous permet d'apprendre plus</td>\n",
       "      <td>NaN</td>\n",
       "      <td>Une femme</td>\n",
       "      <td>La gestion de projets</td>\n",
       "      <td>2h</td>\n",
       "      <td>NaN</td>\n",
       "    </tr>\n",
       "  </tbody>\n",
       "</table>\n",
       "</div>"
      ],
      "text/plain": [
       "                     Horodateur Quel prénom vous convient plus ?  \\\n",
       "0  2021/01/14 11:42:54 AM UTC+1                             Elle   \n",
       "1  2021/01/14 11:15:14 PM UTC+1                             Elle   \n",
       "2   2021/01/17 9:50:25 AM UTC+1                             Nadi   \n",
       "3   2021/01/17 9:20:40 PM UTC+1                               Il   \n",
       "4   2021/01/24 1:00:11 PM UTC+1                             Elle   \n",
       "5   2021/01/24 1:01:13 PM UTC+1                               Il   \n",
       "6   2021/01/24 1:11:21 PM UTC+1                               Il   \n",
       "7   2021/01/28 7:13:20 AM UTC+1                               Il   \n",
       "\n",
       "  Votre tranche d'âge      Nom & Prénoms    Occupation  \\\n",
       "0               21-26      AYEGNON Grâce   Employé (e)   \n",
       "1              15 -20    MOUFTAOU Hanane  Etudiant (e)   \n",
       "2              15 -20       Ehysse nadia  Etudiant (e)   \n",
       "3               21-26    Vincent TOSSOU     Freelancer   \n",
       "4             27-plus  Annette ADOUKONOU  Entrepreneur   \n",
       "5                 NaN                NaN  Entrepreneur   \n",
       "6               21-26      GNIMADI Patel   Employé (e)   \n",
       "7              15 -20    GBADENON Desnos  Etudiant (e)   \n",
       "\n",
       "  Pensez-vous que le mentorat est utile ?  \\\n",
       "0                                     Oui   \n",
       "1                                     Oui   \n",
       "2                                     Oui   \n",
       "3                                     Oui   \n",
       "4                                     Oui   \n",
       "5                                     Oui   \n",
       "6                                     Oui   \n",
       "7                                     Oui   \n",
       "\n",
       "                                  Si oui, pourquoi ?  \\\n",
       "0                    Il vous permet d'apprendre plus   \n",
       "1                    Il vous permet d'apprendre plus   \n",
       "2                    Il vous permet d'apprendre plus   \n",
       "3  Il accroit vos compétences dans un domaine précis   \n",
       "4                    Il vous permet d'apprendre plus   \n",
       "5  Il accroit vos compétences dans un domaine précis   \n",
       "6                    Il vous permet d'apprendre plus   \n",
       "7                    Il vous permet d'apprendre plus   \n",
       "\n",
       "          Si non, pourquoi ? Vous préférez être mentoré (e) par ?  \\\n",
       "0                        NaN                            Une femme   \n",
       "1                        NaN                            Une femme   \n",
       "2                        NaN                             Un homme   \n",
       "3                        NaN                             Un homme   \n",
       "4                        NaN                            Une femme   \n",
       "5  Il est simplement inutile                             Un homme   \n",
       "6                        NaN                            Une femme   \n",
       "7                        NaN                            Une femme   \n",
       "\n",
       "  Quels sont les thèmes sur lesquels vous aimeriez être mentorés ?  \\\n",
       "0                              La gestion de projets                 \n",
       "1                                                NaN                 \n",
       "2                          L'art de parler en public                 \n",
       "3                   La santé mentale et émotionnelle                 \n",
       "4                             La gestion de finances                 \n",
       "5                  Les STEM (Science et Technologie)                 \n",
       "6                             La gestion de finances                 \n",
       "7                              La gestion de projets                 \n",
       "\n",
       "  Combien d'heures seriez-vous disponible à consacrer à une séance de mentorat par semaine ?  \\\n",
       "0                                                 2h                                           \n",
       "1                                                 2h                                           \n",
       "2                                                 1h                                           \n",
       "3                                                 2h                                           \n",
       "4                                                 2h                                           \n",
       "5                                                 1h                                           \n",
       "6                                                 1h                                           \n",
       "7                                                 2h                                           \n",
       "\n",
       "  Si vous avez un commentaire à faire, n'hésitez pas!  \n",
       "0                                         Non, merci   \n",
       "1                                                NaN   \n",
       "2                                                NaN   \n",
       "3                                                NaN   \n",
       "4                                                NaN   \n",
       "5                                                NaN   \n",
       "6  Par rapport aux thèmes je voudrais en choisir ...   \n",
       "7                                                NaN   "
      ]
     },
     "execution_count": 2,
     "metadata": {},
     "output_type": "execute_result"
    }
   ],
   "source": [
    "mydata"
   ]
  },
  {
   "cell_type": "markdown",
   "metadata": {},
   "source": [
    "## Affichage des 5 premières lignes du fichier csv"
   ]
  },
  {
   "cell_type": "code",
   "execution_count": 3,
   "metadata": {},
   "outputs": [
    {
     "data": {
      "text/html": [
       "<div>\n",
       "<style scoped>\n",
       "    .dataframe tbody tr th:only-of-type {\n",
       "        vertical-align: middle;\n",
       "    }\n",
       "\n",
       "    .dataframe tbody tr th {\n",
       "        vertical-align: top;\n",
       "    }\n",
       "\n",
       "    .dataframe thead th {\n",
       "        text-align: right;\n",
       "    }\n",
       "</style>\n",
       "<table border=\"1\" class=\"dataframe\">\n",
       "  <thead>\n",
       "    <tr style=\"text-align: right;\">\n",
       "      <th></th>\n",
       "      <th>Horodateur</th>\n",
       "      <th>Quel prénom vous convient plus ?</th>\n",
       "      <th>Votre tranche d'âge</th>\n",
       "      <th>Nom &amp; Prénoms</th>\n",
       "      <th>Occupation</th>\n",
       "      <th>Pensez-vous que le mentorat est utile ?</th>\n",
       "      <th>Si oui, pourquoi ?</th>\n",
       "      <th>Si non, pourquoi ?</th>\n",
       "      <th>Vous préférez être mentoré (e) par ?</th>\n",
       "      <th>Quels sont les thèmes sur lesquels vous aimeriez être mentorés ?</th>\n",
       "      <th>Combien d'heures seriez-vous disponible à consacrer à une séance de mentorat par semaine ?</th>\n",
       "      <th>Si vous avez un commentaire à faire, n'hésitez pas!</th>\n",
       "    </tr>\n",
       "  </thead>\n",
       "  <tbody>\n",
       "    <tr>\n",
       "      <th>0</th>\n",
       "      <td>2021/01/14 11:42:54 AM UTC+1</td>\n",
       "      <td>Elle</td>\n",
       "      <td>21-26</td>\n",
       "      <td>AYEGNON Grâce</td>\n",
       "      <td>Employé (e)</td>\n",
       "      <td>Oui</td>\n",
       "      <td>Il vous permet d'apprendre plus</td>\n",
       "      <td>NaN</td>\n",
       "      <td>Une femme</td>\n",
       "      <td>La gestion de projets</td>\n",
       "      <td>2h</td>\n",
       "      <td>Non, merci</td>\n",
       "    </tr>\n",
       "    <tr>\n",
       "      <th>1</th>\n",
       "      <td>2021/01/14 11:15:14 PM UTC+1</td>\n",
       "      <td>Elle</td>\n",
       "      <td>15 -20</td>\n",
       "      <td>MOUFTAOU Hanane</td>\n",
       "      <td>Etudiant (e)</td>\n",
       "      <td>Oui</td>\n",
       "      <td>Il vous permet d'apprendre plus</td>\n",
       "      <td>NaN</td>\n",
       "      <td>Une femme</td>\n",
       "      <td>NaN</td>\n",
       "      <td>2h</td>\n",
       "      <td>NaN</td>\n",
       "    </tr>\n",
       "    <tr>\n",
       "      <th>2</th>\n",
       "      <td>2021/01/17 9:50:25 AM UTC+1</td>\n",
       "      <td>Nadi</td>\n",
       "      <td>15 -20</td>\n",
       "      <td>Ehysse nadia</td>\n",
       "      <td>Etudiant (e)</td>\n",
       "      <td>Oui</td>\n",
       "      <td>Il vous permet d'apprendre plus</td>\n",
       "      <td>NaN</td>\n",
       "      <td>Un homme</td>\n",
       "      <td>L'art de parler en public</td>\n",
       "      <td>1h</td>\n",
       "      <td>NaN</td>\n",
       "    </tr>\n",
       "    <tr>\n",
       "      <th>3</th>\n",
       "      <td>2021/01/17 9:20:40 PM UTC+1</td>\n",
       "      <td>Il</td>\n",
       "      <td>21-26</td>\n",
       "      <td>Vincent TOSSOU</td>\n",
       "      <td>Freelancer</td>\n",
       "      <td>Oui</td>\n",
       "      <td>Il accroit vos compétences dans un domaine précis</td>\n",
       "      <td>NaN</td>\n",
       "      <td>Un homme</td>\n",
       "      <td>La santé mentale et émotionnelle</td>\n",
       "      <td>2h</td>\n",
       "      <td>NaN</td>\n",
       "    </tr>\n",
       "    <tr>\n",
       "      <th>4</th>\n",
       "      <td>2021/01/24 1:00:11 PM UTC+1</td>\n",
       "      <td>Elle</td>\n",
       "      <td>27-plus</td>\n",
       "      <td>Annette ADOUKONOU</td>\n",
       "      <td>Entrepreneur</td>\n",
       "      <td>Oui</td>\n",
       "      <td>Il vous permet d'apprendre plus</td>\n",
       "      <td>NaN</td>\n",
       "      <td>Une femme</td>\n",
       "      <td>La gestion de finances</td>\n",
       "      <td>2h</td>\n",
       "      <td>NaN</td>\n",
       "    </tr>\n",
       "  </tbody>\n",
       "</table>\n",
       "</div>"
      ],
      "text/plain": [
       "                     Horodateur Quel prénom vous convient plus ?  \\\n",
       "0  2021/01/14 11:42:54 AM UTC+1                             Elle   \n",
       "1  2021/01/14 11:15:14 PM UTC+1                             Elle   \n",
       "2   2021/01/17 9:50:25 AM UTC+1                             Nadi   \n",
       "3   2021/01/17 9:20:40 PM UTC+1                               Il   \n",
       "4   2021/01/24 1:00:11 PM UTC+1                             Elle   \n",
       "\n",
       "  Votre tranche d'âge      Nom & Prénoms    Occupation  \\\n",
       "0               21-26      AYEGNON Grâce   Employé (e)   \n",
       "1              15 -20    MOUFTAOU Hanane  Etudiant (e)   \n",
       "2              15 -20       Ehysse nadia  Etudiant (e)   \n",
       "3               21-26    Vincent TOSSOU     Freelancer   \n",
       "4             27-plus  Annette ADOUKONOU  Entrepreneur   \n",
       "\n",
       "  Pensez-vous que le mentorat est utile ?  \\\n",
       "0                                     Oui   \n",
       "1                                     Oui   \n",
       "2                                     Oui   \n",
       "3                                     Oui   \n",
       "4                                     Oui   \n",
       "\n",
       "                                  Si oui, pourquoi ? Si non, pourquoi ?  \\\n",
       "0                    Il vous permet d'apprendre plus                NaN   \n",
       "1                    Il vous permet d'apprendre plus                NaN   \n",
       "2                    Il vous permet d'apprendre plus                NaN   \n",
       "3  Il accroit vos compétences dans un domaine précis                NaN   \n",
       "4                    Il vous permet d'apprendre plus                NaN   \n",
       "\n",
       "  Vous préférez être mentoré (e) par ?  \\\n",
       "0                            Une femme   \n",
       "1                            Une femme   \n",
       "2                             Un homme   \n",
       "3                             Un homme   \n",
       "4                            Une femme   \n",
       "\n",
       "  Quels sont les thèmes sur lesquels vous aimeriez être mentorés ?  \\\n",
       "0                              La gestion de projets                 \n",
       "1                                                NaN                 \n",
       "2                          L'art de parler en public                 \n",
       "3                   La santé mentale et émotionnelle                 \n",
       "4                             La gestion de finances                 \n",
       "\n",
       "  Combien d'heures seriez-vous disponible à consacrer à une séance de mentorat par semaine ?  \\\n",
       "0                                                 2h                                           \n",
       "1                                                 2h                                           \n",
       "2                                                 1h                                           \n",
       "3                                                 2h                                           \n",
       "4                                                 2h                                           \n",
       "\n",
       "  Si vous avez un commentaire à faire, n'hésitez pas!  \n",
       "0                                         Non, merci   \n",
       "1                                                NaN   \n",
       "2                                                NaN   \n",
       "3                                                NaN   \n",
       "4                                                NaN   "
      ]
     },
     "execution_count": 3,
     "metadata": {},
     "output_type": "execute_result"
    }
   ],
   "source": [
    "mydata.head()"
   ]
  },
  {
   "cell_type": "markdown",
   "metadata": {},
   "source": [
    "## Affichage des 5 dernières lignes du fichier csv"
   ]
  },
  {
   "cell_type": "code",
   "execution_count": 4,
   "metadata": {},
   "outputs": [
    {
     "data": {
      "text/html": [
       "<div>\n",
       "<style scoped>\n",
       "    .dataframe tbody tr th:only-of-type {\n",
       "        vertical-align: middle;\n",
       "    }\n",
       "\n",
       "    .dataframe tbody tr th {\n",
       "        vertical-align: top;\n",
       "    }\n",
       "\n",
       "    .dataframe thead th {\n",
       "        text-align: right;\n",
       "    }\n",
       "</style>\n",
       "<table border=\"1\" class=\"dataframe\">\n",
       "  <thead>\n",
       "    <tr style=\"text-align: right;\">\n",
       "      <th></th>\n",
       "      <th>Horodateur</th>\n",
       "      <th>Quel prénom vous convient plus ?</th>\n",
       "      <th>Votre tranche d'âge</th>\n",
       "      <th>Nom &amp; Prénoms</th>\n",
       "      <th>Occupation</th>\n",
       "      <th>Pensez-vous que le mentorat est utile ?</th>\n",
       "      <th>Si oui, pourquoi ?</th>\n",
       "      <th>Si non, pourquoi ?</th>\n",
       "      <th>Vous préférez être mentoré (e) par ?</th>\n",
       "      <th>Quels sont les thèmes sur lesquels vous aimeriez être mentorés ?</th>\n",
       "      <th>Combien d'heures seriez-vous disponible à consacrer à une séance de mentorat par semaine ?</th>\n",
       "      <th>Si vous avez un commentaire à faire, n'hésitez pas!</th>\n",
       "    </tr>\n",
       "  </thead>\n",
       "  <tbody>\n",
       "    <tr>\n",
       "      <th>3</th>\n",
       "      <td>2021/01/17 9:20:40 PM UTC+1</td>\n",
       "      <td>Il</td>\n",
       "      <td>21-26</td>\n",
       "      <td>Vincent TOSSOU</td>\n",
       "      <td>Freelancer</td>\n",
       "      <td>Oui</td>\n",
       "      <td>Il accroit vos compétences dans un domaine précis</td>\n",
       "      <td>NaN</td>\n",
       "      <td>Un homme</td>\n",
       "      <td>La santé mentale et émotionnelle</td>\n",
       "      <td>2h</td>\n",
       "      <td>NaN</td>\n",
       "    </tr>\n",
       "    <tr>\n",
       "      <th>4</th>\n",
       "      <td>2021/01/24 1:00:11 PM UTC+1</td>\n",
       "      <td>Elle</td>\n",
       "      <td>27-plus</td>\n",
       "      <td>Annette ADOUKONOU</td>\n",
       "      <td>Entrepreneur</td>\n",
       "      <td>Oui</td>\n",
       "      <td>Il vous permet d'apprendre plus</td>\n",
       "      <td>NaN</td>\n",
       "      <td>Une femme</td>\n",
       "      <td>La gestion de finances</td>\n",
       "      <td>2h</td>\n",
       "      <td>NaN</td>\n",
       "    </tr>\n",
       "    <tr>\n",
       "      <th>5</th>\n",
       "      <td>2021/01/24 1:01:13 PM UTC+1</td>\n",
       "      <td>Il</td>\n",
       "      <td>NaN</td>\n",
       "      <td>NaN</td>\n",
       "      <td>Entrepreneur</td>\n",
       "      <td>Oui</td>\n",
       "      <td>Il accroit vos compétences dans un domaine précis</td>\n",
       "      <td>Il est simplement inutile</td>\n",
       "      <td>Un homme</td>\n",
       "      <td>Les STEM (Science et Technologie)</td>\n",
       "      <td>1h</td>\n",
       "      <td>NaN</td>\n",
       "    </tr>\n",
       "    <tr>\n",
       "      <th>6</th>\n",
       "      <td>2021/01/24 1:11:21 PM UTC+1</td>\n",
       "      <td>Il</td>\n",
       "      <td>21-26</td>\n",
       "      <td>GNIMADI Patel</td>\n",
       "      <td>Employé (e)</td>\n",
       "      <td>Oui</td>\n",
       "      <td>Il vous permet d'apprendre plus</td>\n",
       "      <td>NaN</td>\n",
       "      <td>Une femme</td>\n",
       "      <td>La gestion de finances</td>\n",
       "      <td>1h</td>\n",
       "      <td>Par rapport aux thèmes je voudrais en choisir ...</td>\n",
       "    </tr>\n",
       "    <tr>\n",
       "      <th>7</th>\n",
       "      <td>2021/01/28 7:13:20 AM UTC+1</td>\n",
       "      <td>Il</td>\n",
       "      <td>15 -20</td>\n",
       "      <td>GBADENON Desnos</td>\n",
       "      <td>Etudiant (e)</td>\n",
       "      <td>Oui</td>\n",
       "      <td>Il vous permet d'apprendre plus</td>\n",
       "      <td>NaN</td>\n",
       "      <td>Une femme</td>\n",
       "      <td>La gestion de projets</td>\n",
       "      <td>2h</td>\n",
       "      <td>NaN</td>\n",
       "    </tr>\n",
       "  </tbody>\n",
       "</table>\n",
       "</div>"
      ],
      "text/plain": [
       "                    Horodateur Quel prénom vous convient plus ?  \\\n",
       "3  2021/01/17 9:20:40 PM UTC+1                               Il   \n",
       "4  2021/01/24 1:00:11 PM UTC+1                             Elle   \n",
       "5  2021/01/24 1:01:13 PM UTC+1                               Il   \n",
       "6  2021/01/24 1:11:21 PM UTC+1                               Il   \n",
       "7  2021/01/28 7:13:20 AM UTC+1                               Il   \n",
       "\n",
       "  Votre tranche d'âge      Nom & Prénoms    Occupation  \\\n",
       "3               21-26    Vincent TOSSOU     Freelancer   \n",
       "4             27-plus  Annette ADOUKONOU  Entrepreneur   \n",
       "5                 NaN                NaN  Entrepreneur   \n",
       "6               21-26      GNIMADI Patel   Employé (e)   \n",
       "7              15 -20    GBADENON Desnos  Etudiant (e)   \n",
       "\n",
       "  Pensez-vous que le mentorat est utile ?  \\\n",
       "3                                     Oui   \n",
       "4                                     Oui   \n",
       "5                                     Oui   \n",
       "6                                     Oui   \n",
       "7                                     Oui   \n",
       "\n",
       "                                  Si oui, pourquoi ?  \\\n",
       "3  Il accroit vos compétences dans un domaine précis   \n",
       "4                    Il vous permet d'apprendre plus   \n",
       "5  Il accroit vos compétences dans un domaine précis   \n",
       "6                    Il vous permet d'apprendre plus   \n",
       "7                    Il vous permet d'apprendre plus   \n",
       "\n",
       "          Si non, pourquoi ? Vous préférez être mentoré (e) par ?  \\\n",
       "3                        NaN                             Un homme   \n",
       "4                        NaN                            Une femme   \n",
       "5  Il est simplement inutile                             Un homme   \n",
       "6                        NaN                            Une femme   \n",
       "7                        NaN                            Une femme   \n",
       "\n",
       "  Quels sont les thèmes sur lesquels vous aimeriez être mentorés ?  \\\n",
       "3                   La santé mentale et émotionnelle                 \n",
       "4                             La gestion de finances                 \n",
       "5                  Les STEM (Science et Technologie)                 \n",
       "6                             La gestion de finances                 \n",
       "7                              La gestion de projets                 \n",
       "\n",
       "  Combien d'heures seriez-vous disponible à consacrer à une séance de mentorat par semaine ?  \\\n",
       "3                                                 2h                                           \n",
       "4                                                 2h                                           \n",
       "5                                                 1h                                           \n",
       "6                                                 1h                                           \n",
       "7                                                 2h                                           \n",
       "\n",
       "  Si vous avez un commentaire à faire, n'hésitez pas!  \n",
       "3                                                NaN   \n",
       "4                                                NaN   \n",
       "5                                                NaN   \n",
       "6  Par rapport aux thèmes je voudrais en choisir ...   \n",
       "7                                                NaN   "
      ]
     },
     "execution_count": 4,
     "metadata": {},
     "output_type": "execute_result"
    }
   ],
   "source": [
    "mydata.tail()"
   ]
  },
  {
   "cell_type": "markdown",
   "metadata": {},
   "source": [
    "## Affichage des colonnes du fichier csv"
   ]
  },
  {
   "cell_type": "code",
   "execution_count": 5,
   "metadata": {},
   "outputs": [
    {
     "data": {
      "text/plain": [
       "['Horodateur',\n",
       " 'Quel prénom vous convient plus ?',\n",
       " \"Votre tranche d'âge\",\n",
       " 'Nom & Prénoms',\n",
       " 'Occupation',\n",
       " 'Pensez-vous que le mentorat est utile ?',\n",
       " 'Si oui, pourquoi ?',\n",
       " 'Si non, pourquoi ?',\n",
       " 'Vous préférez être mentoré (e) par ?',\n",
       " 'Quels sont les thèmes sur lesquels vous aimeriez être mentorés ?',\n",
       " \"Combien d'heures seriez-vous disponible à consacrer à une séance de mentorat par semaine ?\",\n",
       " \"Si vous avez un commentaire à faire, n'hésitez pas!\"]"
      ]
     },
     "execution_count": 5,
     "metadata": {},
     "output_type": "execute_result"
    }
   ],
   "source": [
    "mydata.columns.tolist()"
   ]
  },
  {
   "cell_type": "markdown",
   "metadata": {},
   "source": [
    "## Affichage des valeurs (réponses) à la question 1"
   ]
  },
  {
   "cell_type": "code",
   "execution_count": 6,
   "metadata": {},
   "outputs": [
    {
     "data": {
      "text/plain": [
       "['Elle', 'Elle', 'Nadi', 'Il', 'Elle', 'Il', 'Il', 'Il']"
      ]
     },
     "execution_count": 6,
     "metadata": {},
     "output_type": "execute_result"
    }
   ],
   "source": [
    "mydata['Quel prénom vous convient plus ?'].values.tolist()"
   ]
  },
  {
   "cell_type": "markdown",
   "metadata": {},
   "source": [
    "## Affichage 2 des valeurs (réponses) à la question 1"
   ]
  },
  {
   "cell_type": "code",
   "execution_count": 7,
   "metadata": {},
   "outputs": [
    {
     "data": {
      "text/plain": [
       "<bound method IndexOpsMixin.value_counts of 0    Elle\n",
       "1    Elle\n",
       "2    Nadi\n",
       "3      Il\n",
       "4    Elle\n",
       "5      Il\n",
       "6      Il\n",
       "7      Il\n",
       "Name: Quel prénom vous convient plus ?, dtype: object>"
      ]
     },
     "execution_count": 7,
     "metadata": {},
     "output_type": "execute_result"
    }
   ],
   "source": [
    "mydata['Quel prénom vous convient plus ?'].value_counts"
   ]
  },
  {
   "cell_type": "markdown",
   "metadata": {},
   "source": [
    "## Affichage des valeurs (réponses) à la question 2"
   ]
  },
  {
   "cell_type": "code",
   "execution_count": 8,
   "metadata": {},
   "outputs": [
    {
     "data": {
      "text/plain": [
       "['21-26', '15 -20', '15 -20', '21-26', '27-plus', nan, '21-26', '15 -20']"
      ]
     },
     "execution_count": 8,
     "metadata": {},
     "output_type": "execute_result"
    }
   ],
   "source": [
    "mydata['Votre tranche d\\'âge'].values.tolist()"
   ]
  },
  {
   "cell_type": "markdown",
   "metadata": {},
   "source": [
    "## Affichage 2 des valeurs (réponses) à la question 2"
   ]
  },
  {
   "cell_type": "code",
   "execution_count": 9,
   "metadata": {},
   "outputs": [
    {
     "data": {
      "text/plain": [
       "['21-26', '15 -20', '15 -20', '21-26', '27-plus', nan, '21-26', '15 -20']"
      ]
     },
     "execution_count": 9,
     "metadata": {},
     "output_type": "execute_result"
    }
   ],
   "source": [
    "ages = mydata['Votre tranche d\\'âge'].values.tolist()\n",
    "ages"
   ]
  },
  {
   "cell_type": "markdown",
   "metadata": {},
   "source": [
    "## Affichage 3 des valeurs (réponses) à la question 2"
   ]
  },
  {
   "cell_type": "code",
   "execution_count": 10,
   "metadata": {},
   "outputs": [
    {
     "data": {
      "text/plain": [
       "<bound method IndexOpsMixin.value_counts of 0      21-26\n",
       "1     15 -20\n",
       "2     15 -20\n",
       "3      21-26\n",
       "4    27-plus\n",
       "5        NaN\n",
       "6      21-26\n",
       "7     15 -20\n",
       "Name: Votre tranche d'âge, dtype: object>"
      ]
     },
     "execution_count": 10,
     "metadata": {},
     "output_type": "execute_result"
    }
   ],
   "source": [
    "mydata['Votre tranche d\\'âge'].value_counts"
   ]
  },
  {
   "cell_type": "markdown",
   "metadata": {},
   "source": [
    "## Affichage des occurences par réponse (question 1)"
   ]
  },
  {
   "cell_type": "code",
   "execution_count": 11,
   "metadata": {},
   "outputs": [
    {
     "data": {
      "text/plain": [
       "Il      4\n",
       "Elle    3\n",
       "Nadi    1\n",
       "Name: Quel prénom vous convient plus ?, dtype: int64"
      ]
     },
     "execution_count": 11,
     "metadata": {},
     "output_type": "execute_result"
    }
   ],
   "source": [
    "mydata['Quel prénom vous convient plus ?'].value_counts()"
   ]
  },
  {
   "cell_type": "markdown",
   "metadata": {},
   "source": [
    "## Représentation Graphique (sexes)"
   ]
  },
  {
   "cell_type": "code",
   "execution_count": 12,
   "metadata": {},
   "outputs": [
    {
     "data": {
      "image/png": "[encoded data removed]",
      "text/plain": [
       "<Figure size 432x288 with 1 Axes>"
      ]
     },
     "metadata": {},
     "output_type": "display_data"
    }
   ],
   "source": [
    "sexe = np.array([4,3,1])\n",
    "libelles = np.array([\"Hommes\",\"Femmes\",\"Autres\"])\n",
    "plt.pie(sexe, labels=libelles, shadow=True)\n",
    "plt.legend(title=\"Sexes\")\n",
    "plt.show()"
   ]
  },
  {
   "cell_type": "markdown",
   "metadata": {},
   "source": [
    "## Affichage des occurences par réponse (question 2)"
   ]
  },
  {
   "cell_type": "code",
   "execution_count": 13,
   "metadata": {},
   "outputs": [
    {
     "data": {
      "text/plain": [
       "21-26      3\n",
       "15 -20     3\n",
       "27-plus    1\n",
       "Name: Votre tranche d'âge, dtype: int64"
      ]
     },
     "execution_count": 13,
     "metadata": {},
     "output_type": "execute_result"
    }
   ],
   "source": [
    "mydata['Votre tranche d\\'âge'].value_counts()"
   ]
  },
  {
   "cell_type": "markdown",
   "metadata": {},
   "source": [
    "## Représentation Graphique (ages)"
   ]
  },
  {
   "cell_type": "code",
   "execution_count": 14,
   "metadata": {},
   "outputs": [
    {
     "data": {
      "image/png": "[encoded data removed]",
      "text/plain": [
       "<Figure size 432x288 with 1 Axes>"
      ]
     },
     "metadata": {},
     "output_type": "display_data"
    }
   ],
   "source": [
    "tranches_ages = np.array([3,3,1])\n",
    "tranches = np.array([\"15-20\",\"21-26\",\"27-Plus\"])\n",
    "couleur_tranches =np.array([\"gray\",\"pink\",\"black\"]) \n",
    "plt.pie(tranches_ages, labels=tranches, colors= couleur_tranches, shadow=True)\n",
    "plt.legend(title=\"Tranches\")\n",
    "plt.show()"
   ]
  },
  {
   "cell_type": "markdown",
   "metadata": {},
   "source": [
    "## Affichage des occurences par réponse (question 5)"
   ]
  },
  {
   "cell_type": "code",
   "execution_count": 15,
   "metadata": {},
   "outputs": [
    {
     "data": {
      "text/plain": [
       "Une femme    5\n",
       "Un homme     3\n",
       "Name: Vous préférez être mentoré (e) par ?, dtype: int64"
      ]
     },
     "execution_count": 15,
     "metadata": {},
     "output_type": "execute_result"
    }
   ],
   "source": [
    "mydata['Vous préférez être mentoré (e) par ?'].value_counts()"
   ]
  },
  {
   "cell_type": "markdown",
   "metadata": {},
   "source": [
    "## Représentation Graphique (genre du mentor)"
   ]
  },
  {
   "cell_type": "code",
   "execution_count": 16,
   "metadata": {},
   "outputs": [
    {
     "data": {
      "image/png": "[encoded data removed]",
      "text/plain": [
       "<Figure size 432x288 with 1 Axes>"
      ]
     },
     "metadata": {
      "needs_background": "light"
     },
     "output_type": "display_data"
    }
   ],
   "source": [
    "x= np.array([\"Femme\", \"Homme\"])\n",
    "y= np.array([5,3])\n",
    "plt.bar(x,y,color=\"orange\")\n",
    "plt.show()"
   ]
  },
  {
   "cell_type": "markdown",
   "metadata": {},
   "source": [
    "## Affichage des occurences par réponse (question 3)"
   ]
  },
  {
   "cell_type": "code",
   "execution_count": 17,
   "metadata": {},
   "outputs": [
    {
     "data": {
      "text/plain": [
       "Etudiant (e)    3\n",
       "Entrepreneur    2\n",
       "Employé (e)     2\n",
       "Freelancer      1\n",
       "Name: Occupation, dtype: int64"
      ]
     },
     "execution_count": 17,
     "metadata": {},
     "output_type": "execute_result"
    }
   ],
   "source": [
    "mydata['Occupation'].value_counts()"
   ]
  },
  {
   "cell_type": "markdown",
   "metadata": {},
   "source": [
    "## Représentation Graphique (occupation)"
   ]
  },
  {
   "cell_type": "code",
   "execution_count": 18,
   "metadata": {},
   "outputs": [
    {
     "data": {
      "image/png": "[encoded data removed]",
      "text/plain": [
       "<Figure size 432x288 with 1 Axes>"
      ]
     },
     "metadata": {
      "needs_background": "light"
     },
     "output_type": "display_data"
    }
   ],
   "source": [
    "x= np.array([\"Etudiant\", \"Entrepreneur\", \"Employé\", \"Freelancer\"])\n",
    "y= np.array([3,2,2,1])\n",
    "plt.barh(x,y,color=\"hotpink\")\n",
    "plt.show()"
   ]
  }
 ],
 "metadata": {
  "kernelspec": {
   "display_name": "Python 3",
   "language": "python",
   "name": "python3"
  },
  "language_info": {
   "codemirror_mode": {
    "name": "ipython",
    "version": 3
   },
   "file_extension": ".py",
   "mimetype": "text/x-python",
   "name": "python",
   "nbconvert_exporter": "python",
   "pygments_lexer": "ipython3",
   "version": "3.7.6"
  }
 },
 "nbformat": 4,
 "nbformat_minor": 4
}
